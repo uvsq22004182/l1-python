{
 "cells": [
  {
   "cell_type": "markdown",
   "metadata": {},
   "source": [
    "# TD 1: Environnement de programmation et premiers pas avec Python"
   ]
  },
  {
   "cell_type": "markdown",
   "metadata": {},
   "source": [
    "---\n",
    "\n",
    "## 1.Vérification de l'installation de l'environnement de programmation\n",
    "\n",
    "Avant de débuter ce td, vous devez avoir suivi la procédure d'installation [INSTALL.md](https://github.com/uvsq-info/l1-python/blob/master/INSTALL.md) si vous utilisez votre ordinateur personnel. Et, que vous utilisiez votre ordinateur personnel ou bien un ordinateur du cartable numérique, vous avez testé toutes les étapes du [tutoriel de prise en main de l'environnement de programmation](https://github.com/uvsq-info/l1-python/blob/master/README.md) jusqu'à la partie **utilisation du projet dans un terminal**. Si un des tests ne marche pas, appelez un enseignant. Si vous ne réusissez pas à exécuter le code du notebook, et en attendant que l'on vienne vous aider, vous pouvez travailler en utilisant un [notebook en ligne](https://colab.research.google.com/notebooks/intro.ipynb). Le notebook en ligne est aussi une solution pour programmer depuis chez vous si vous n'avez pas installé l'environnement correctement. Mais la solution privilégiée reste d'installer l'environnement.\n",
    "\n",
    "Tout au long du travail que vous ferez sur le notebook, pensez à le sauvegarder en cliquant sur l'icône en haut à gauche du notebook. A la fin du td, mais également à la fin de chaque section du notebook, pensez à sauvegardez votre travail sur votre compte github. \n",
    "\n",
    "Ce td commence en présentiel, et la fin sera traitée dans le td à distance de la semaine prochaine.\n",
    "\n"
   ]
  },
  {
   "cell_type": "markdown",
   "metadata": {},
   "source": [
    "---\n",
    "## 2.Utilisation du notebook Python\n",
    "\n",
    "Dans un premier temps, nous allons voir comment utiliser le notebook. Le notebook permet d'écrire du code que l'on peut évaluer au fur et à mesure. Plus tard, nous programmerons dans un fichier texte, en utilisant l'éditeur VisualStudioCode (VSCode dans la suite) et l'environnement qu'il fournit pour écrire des programmes en Python. \n",
    "\n",
    "Un notebook contient des *cellules* qui sont de deux sortes: il y a des cellules de texte écrites dans un langage de mise en forme de texte appelé *Markdown*, et les cellules de code que vous allez remplir. Les cellules de code sont précédées de crochets `[-]` avec un tiret ou un numéro dedans (notez que la présentation peut être différente avec un autre éditeur de notebook).\n",
    "\n",
    "1. Dans la cellule de code suivante, tapez `1 + 1` puis évaluez la cellule en cliquant sur la flèche verte en haut à gauche de la cellule.\n",
    "\n",
    "\n"
   ]
  },
  {
   "cell_type": "code",
   "execution_count": 1,
   "metadata": {},
   "outputs": [
    {
     "output_type": "execute_result",
     "data": {
      "text/plain": "2"
     },
     "metadata": {},
     "execution_count": 1
    }
   ],
   "source": [
    "1+1"
   ]
  },
  {
   "cell_type": "markdown",
   "metadata": {},
   "source": [
    "2. Cliquez de nouveau sur cette cellule et appuyez sur les touches `SHIFT + ENTREE` du clavier.\n",
    "\n",
    "**Note**: Cela évalue également la cellule de code. Remarquez le numéro qui s'affiche dans les crochets: c'est *l'ordre d'évaluation* de la cellule. \n",
    "\n",
    "3. Dans la cellule suivante, affectez le résultat de l'expression `1 + 1` à une variable notée `a`. Bien entendu, évaluez la cellule (on ne le rappellera pas systématiquement)."
   ]
  },
  {
   "cell_type": "code",
   "execution_count": 2,
   "metadata": {},
   "outputs": [],
   "source": [
    "a=1+1"
   ]
  },
  {
   "cell_type": "markdown",
   "metadata": {},
   "source": [
    "4. Remarquez que l'évaluation de cette cellule ne génère aucun *texte  en sortie*. Pour connaître la valeur de la variable `a`, tapez le nom de la variable dans la cellule suivante."
   ]
  },
  {
   "cell_type": "code",
   "execution_count": 3,
   "metadata": {
    "tags": []
   },
   "outputs": [
    {
     "output_type": "execute_result",
     "data": {
      "text/plain": "2"
     },
     "metadata": {},
     "execution_count": 3
    }
   ],
   "source": [
    "a"
   ]
  },
  {
   "cell_type": "markdown",
   "metadata": {},
   "source": [
    "5. Testez maintenant l'expression `print(a)`."
   ]
  },
  {
   "cell_type": "code",
   "execution_count": 4,
   "metadata": {
    "tags": []
   },
   "outputs": [
    {
     "output_type": "stream",
     "name": "stdout",
     "text": "2\n"
    }
   ],
   "source": [
    "print(a)"
   ]
  },
  {
   "cell_type": "markdown",
   "metadata": {},
   "source": [
    "Le résultat est identique. La première méthode fonctionne dans le notebook, mais pas dans un programme Python. C'est pourquoi il vaut mieux utiliser la deuxième méthode qui repose sur l'utilisation de la *fonction native* `print()`. L'ensemble de ces fonctions est [disponible ici](https://docs.python.org/fr/3.5/library/functions.html).\n",
    "\n",
    "6. Augmentez de 1 la valeur de `a`. L'expression doit donner le bon résultat quelle que soit la valeur de la variable."
   ]
  },
  {
   "cell_type": "code",
   "execution_count": 5,
   "metadata": {},
   "outputs": [],
   "source": [
    "a+=1"
   ]
  },
  {
   "cell_type": "markdown",
   "metadata": {},
   "source": [
    "Et vérifiez en affichant la valeur de `a`."
   ]
  },
  {
   "cell_type": "code",
   "execution_count": 6,
   "metadata": {
    "tags": []
   },
   "outputs": [
    {
     "output_type": "execute_result",
     "data": {
      "text/plain": "3"
     },
     "metadata": {},
     "execution_count": 6
    }
   ],
   "source": [
    "a"
   ]
  },
  {
   "cell_type": "markdown",
   "metadata": {},
   "source": [
    "7. Ré-évaluez toutes les cellules où vous avez affiché la valeur de `a`. Que remarquez-vous? On voit ici que ce qui compte dans le notebook est *l'ordre d'évaluation* et non pas *l'ordre d'apparition* des cellules. Ce comportement est source d'erreur, il faut donc bien y faire attention.\n",
    "\n",
    "8. Sans écrire de code supplémentaire, augmentez encore de 1 la valeur de `a`, et vérifiez que ça a bien fonctionné.\n",
    "\n",
    "**Note**: les 5 questions suivantes sont relatives à l'usage du notebook dans VSCode. Si vous travaillez avec un autre type de notebook, il est possible que vous n'ayez pas accès à toutes ces fonctionnalités.\n",
    "\n",
    "9. Parmi les icônes qui apparaissent en haut du notebook, trouvez celui qui affiche `clear all output`. Cliquez dessus, puis ré-évaluez la variable `a`.\n",
    "\n",
    "10. Parmi les icônes qui apparaissent en haut du notebook, trouvez celui qui affiche `show variables active in jupyter kernel`. Cliquez dessus et regardez le résultat. Cet outil est très utile pour comprendre les erreurs liées à l'ordre d'évaluation des cellules.\n",
    "\n",
    "11. Parmi les icônes qui apparaissent en haut du notebook, trouvez celui qui affiche `restart IPython kernel`. Cliquez dessus et regardez le résultat dans l'affichage des variables. Ré-évaluez la variable `a`. Que se passe-t'il?\n",
    "\n",
    "12. Dans cette même barre, trouvez l'icône qui permet d'évaluer toutes les cellules se trouvant au-dessus de ce bloc de texte.\n",
    "\n",
    "13. Enfin, sauvegardez votre travail.\n",
    "\n",
    "14. Dans la cellule suivante, affectez la valeur 5 à la variable `a` et la valeur 2 à la variable `b`, puis afficher les 2 valeurs avec l'expression `print(a, b)`.\n"
   ]
  },
  {
   "cell_type": "code",
   "execution_count": 8,
   "metadata": {
    "tags": []
   },
   "outputs": [
    {
     "output_type": "stream",
     "name": "stdout",
     "text": "5 2\n"
    }
   ],
   "source": [
    "a = 5\n",
    "b = 2\n",
    "print(a,b)"
   ]
  },
  {
   "cell_type": "markdown",
   "metadata": {},
   "source": [
    "15. Ecrivez le code qui permet d'échanger la valeur des variables `a` et `b`. Puis affichez leurs valeurs."
   ]
  },
  {
   "cell_type": "code",
   "execution_count": 9,
   "metadata": {
    "tags": []
   },
   "outputs": [
    {
     "output_type": "stream",
     "name": "stdout",
     "text": "2 5\n"
    }
   ],
   "source": [
    "a, b = b, a\n",
    "print(a,b)"
   ]
  },
  {
   "cell_type": "markdown",
   "metadata": {},
   "source": [
    "16. Pour enrichir l'affichage, recopiez l'expression `print(\"a vaut\", a, \"et b vaut\", b)`."
   ]
  },
  {
   "cell_type": "code",
   "execution_count": 10,
   "metadata": {
    "tags": []
   },
   "outputs": [
    {
     "output_type": "stream",
     "name": "stdout",
     "text": "a vaut 2 et b vaut 5\n"
    }
   ],
   "source": [
    "print(\"a vaut\", a, \"et b vaut\", b)"
   ]
  },
  {
   "cell_type": "markdown",
   "metadata": {},
   "source": [
    "17.  Recopiez l'affectation suivante `a = \"hello world\"`, puis affichez la valeur de `a`."
   ]
  },
  {
   "cell_type": "code",
   "execution_count": 14,
   "metadata": {
    "tags": []
   },
   "outputs": [
    {
     "output_type": "stream",
     "name": "stdout",
     "text": "hello world\n"
    },
    {
     "output_type": "execute_result",
     "data": {
      "text/plain": "&#39;hello world&#39;"
     },
     "metadata": {},
     "execution_count": 14
    }
   ],
   "source": [
    "a = \"hello world\"\n",
    "print(a)\n",
    "a"
   ]
  },
  {
   "cell_type": "markdown",
   "metadata": {},
   "source": [
    "**Note**: la variable `a` contenait un entier, et maintenant une chaîne de caractères. En Python les variables ont un *type dynamique* contrairement au type statique où le type des variables est défini une fois pour toutes. De plus ce typage est *implicite*, c'est-à-dire qu'il est déterminé par les objets auxquels les variables font référence sans avoir besoin de l'écrire explicitement.\n",
    "\n",
    "18. Afficher de nouveau la valeur de `a` sans utiliser la fonction `print`. Que constatez-vous?\n",
    "\n",
    "19. Avant de passer à la suite, sauvegardez votre notebook, et sauvegardez le sur github."
   ]
  },
  {
   "cell_type": "markdown",
   "metadata": {},
   "source": [
    "\n",
    "-------------------\n",
    "## 3.Types de données\n",
    "En Python, toute variable ou expression possède un *type* qui définit, entre autres, les opérations que l'on peut lui  appliquer. Parmi les types natifs on peut citer les nombres entiers, les nombres flottants, les chaînes de caractères (string en anglais) et les booléens (Vrai ou Faux).\n",
    "\n",
    "\n",
    "1. Prédisez le type de chacune des expressions suivantes. Vérifiez le à l'aide de la fonction `type()`:\n",
    "\n",
    "* `5`\n",
    "* `5.0`\n",
    "* `\"5\"`\n",
    "* `-5`\n",
    "* `5 / 2`\n",
    "* `5 // 2`\n",
    "* ` 5 == 2  `\n",
    "* `5 = 2`"
   ]
  },
  {
   "cell_type": "code",
   "execution_count": 4,
   "metadata": {},
   "outputs": [
    {
     "output_type": "execute_result",
     "data": {
      "text/plain": "bool"
     },
     "metadata": {},
     "execution_count": 4
    }
   ],
   "source": [
    "\n",
    "type (5==2)\n",
    "\n",
    "\n"
   ]
  },
  {
   "cell_type": "markdown",
   "metadata": {},
   "source": [
    "Ce sont les types de base du langage Python que nous allons étudier dans la suite. Notez que les nombres flottants s'écrivent avec un point et non avec une virgule.\n",
    "\n",
    "2. Faites la même chose avec les expressions suivantes:\n",
    "\n",
    "* `(5, 2)`\n",
    "* `[5, 2]`\n",
    "* `{5, 2}`\n"
   ]
  },
  {
   "cell_type": "code",
   "execution_count": 5,
   "metadata": {},
   "outputs": [
    {
     "output_type": "execute_result",
     "data": {
      "text/plain": "tuple"
     },
     "metadata": {},
     "execution_count": 5
    }
   ],
   "source": [
    "type ((5, 2))\n",
    "\n"
   ]
  },
  {
   "cell_type": "markdown",
   "metadata": {},
   "source": [
    "Ce sont des types avancés, qui permettent de construire des structures de données plus complexes, que nous apprendrons à manipuler plus tard. Pouvez-vous trouver une expression ayant un autre type?  Vous pouvez consulter la [documentation Python sur les types](https://docs.python.org/fr/3/library/stdtypes.html).\n",
    "\n",
    "3. Maintenant, affectez une valeur à une variable `x`, et écrivez le code qui affiche, par exemple, `le type de x est <class 'int'>` si jamais la valeur stockée dans `x` est un entier.\n"
   ]
  },
  {
   "cell_type": "code",
   "execution_count": 7,
   "metadata": {
    "tags": []
   },
   "outputs": [
    {
     "output_type": "stream",
     "name": "stdout",
     "text": "le type de x est &lt;class &#39;tuple&#39;&gt;\n"
    }
   ],
   "source": [
    "x = (1,2,3)\n",
    "print(\"le type de x est\", type(x))"
   ]
  },
  {
   "cell_type": "markdown",
   "metadata": {},
   "source": [
    "\n",
    "### 3.1 Type numérique entier\n",
    "\n",
    "1. Affectez une valeur entière à une variable `v`.\n"
   ]
  },
  {
   "cell_type": "code",
   "execution_count": 2,
   "metadata": {},
   "outputs": [],
   "source": [
    "v = 149"
   ]
  },
  {
   "cell_type": "markdown",
   "metadata": {},
   "source": [
    "2. Ecrivez le résultat de la division entière de `v` par 11. Par exemple, si `v` vaut 149, le résultat affiché doit être de la forme: \n",
    "\n",
    "`149 = 13 x 11 + 6`"
   ]
  },
  {
   "cell_type": "code",
   "execution_count": 8,
   "metadata": {
    "tags": []
   },
   "outputs": [
    {
     "output_type": "stream",
     "name": "stdout",
     "text": "500 45 x 11 + 5\n"
    }
   ],
   "source": [
    "print(v, v // 11, 'x 11 +',v % 11)"
   ]
  },
  {
   "cell_type": "code",
   "execution_count": null,
   "metadata": {},
   "outputs": [],
   "source": []
  },
  {
   "cell_type": "code",
   "execution_count": null,
   "metadata": {
    "tags": []
   },
   "outputs": [],
   "source": []
  },
  {
   "cell_type": "markdown",
   "metadata": {},
   "source": [
    "3. Prédisez le résultat des expressions suivantes, puis évaluer le code:\n",
    "* `3 * (10 / 3)`\n",
    "* `3 * (10 // 3)`\n",
    "* `(3 * 10) // 3`"
   ]
  },
  {
   "cell_type": "code",
   "execution_count": 12,
   "metadata": {
    "tags": []
   },
   "outputs": [
    {
     "output_type": "stream",
     "name": "stdout",
     "text": "10\n10\n"
    }
   ],
   "source": [
    "print ((3 * 10) // 3)\n",
    "print (3 * 10 // 3 )"
   ]
  },
  {
   "cell_type": "markdown",
   "metadata": {},
   "source": [
    "5. Le résultat change-t'il si on retire les parenthèses des expressions précédentes?"
   ]
  },
  {
   "cell_type": "markdown",
   "metadata": {},
   "source": [
    "\n",
    "6. Affectez un nombre entier à une variable, puis écrivez une expression qui affiche `True` si la variable est paire et `False` sinon."
   ]
  },
  {
   "cell_type": "code",
   "execution_count": 17,
   "metadata": {
    "tags": []
   },
   "outputs": [
    {
     "output_type": "execute_result",
     "data": {
      "text/plain": "True"
     },
     "metadata": {},
     "execution_count": 17
    }
   ],
   "source": [
    "a=6 #pour false changer 6 et mettre 7\n",
    "a // 2 == a / 2"
   ]
  },
  {
   "cell_type": "markdown",
   "metadata": {},
   "source": [
    "7. L'opérateur puissance s'écrit `**`. Par exemple, 2 à la puissance 10 s'écrit `2 ** 10`. Affichez la valeur de 2 puissance 256. Combien de chiffres a ce nombre (en évitant de compter sur l'écran)?"
   ]
  },
  {
   "cell_type": "code",
   "execution_count": 22,
   "metadata": {
    "tags": []
   },
   "outputs": [
    {
     "output_type": "execute_result",
     "data": {
      "text/plain": "78"
     },
     "metadata": {},
     "execution_count": 22
    }
   ],
   "source": [
    "x = 2 ** 256\n",
    "s=str(x) #len(s) et s=str(x) pour compter dans la chaine de caractere car le calcule est trop long\n",
    "len(s)"
   ]
  },
  {
   "cell_type": "markdown",
   "metadata": {},
   "source": [
    "**Note**:  les nombres entiers ont une précision arbitraire."
   ]
  },
  {
   "cell_type": "raw",
   "metadata": {},
   "source": [
    "Ecrire l'expression qui donne le dernier chiffre du nombre référencé par la variable `a`."
   ]
  },
  {
   "cell_type": "raw",
   "metadata": {},
   "source": [
    "Ecrire l'expression qui donne l'avant-dernier chiffre du nombre référencé par la variable `a`."
   ]
  },
  {
   "cell_type": "markdown",
   "metadata": {},
   "source": [
    "\n",
    "### 3.2 Nombres flottants\n",
    "\n",
    "1. L'expression `0.2 + 0.4` est-elle égale, supérieure ou inférieure à `0.6`?"
   ]
  },
  {
   "cell_type": "code",
   "execution_count": 24,
   "metadata": {
    "tags": []
   },
   "outputs": [
    {
     "output_type": "execute_result",
     "data": {
      "text/plain": "True"
     },
     "metadata": {},
     "execution_count": 24
    }
   ],
   "source": [
    "0.2 + 0.4 >0.6"
   ]
  },
  {
   "cell_type": "markdown",
   "metadata": {},
   "source": [
    "2. Affectez la valeur 0.5 à une variable `x`. Multipliez `x` par $2^{30}$ puis convertissez le résultat obtenu en valeur entière (utilisez la fonction `int()`) puis divisez le résultat par $2^{30}$ (faire une division flottante)."
   ]
  },
  {
   "cell_type": "code",
   "execution_count": 26,
   "metadata": {
    "tags": []
   },
   "outputs": [
    {
     "output_type": "execute_result",
     "data": {
      "text/plain": "(536870912.0, 0.5)"
     },
     "metadata": {},
     "execution_count": 26
    }
   ],
   "source": [
    "x=0.5\n",
    "x=x* 2**30\n",
    "z=int(x) / 2 ** 30\n",
    "(x,z)"
   ]
  },
  {
   "cell_type": "markdown",
   "metadata": {},
   "source": [
    "3. Remplacez la valeur de `x` par 0.1 et refaites le calcul."
   ]
  },
  {
   "cell_type": "markdown",
   "metadata": {},
   "source": [
    "4. Pouvez-vous trouver d'autres valeurs de `x` pour lesquelles l'expression calculée redonne la valeur de `x`?\n",
    "\n",
    "**Note**: les nombres flottants que l'on manipule sont en fait une approximation de ces nombres. Pour plus de détails, vous pouvez consulter [cet article](https://docs.python.org/fr/3.8/tutorial/floatingpoint.html)."
   ]
  },
  {
   "cell_type": "markdown",
   "metadata": {},
   "source": [
    "### 3.3 Chaînes de caractères"
   ]
  },
  {
   "cell_type": "markdown",
   "metadata": {},
   "source": [
    "1. Dans la cellule de code suivante, affichez le résultat de l'expression `a + b`, et de `b + a`"
   ]
  },
  {
   "cell_type": "code",
   "execution_count": 1,
   "metadata": {
    "tags": []
   },
   "outputs": [
    {
     "output_type": "execute_result",
     "data": {
      "text/plain": "&#39;hello world&#39;"
     },
     "metadata": {},
     "execution_count": 1
    }
   ],
   "source": [
    "a = \"hello\"\n",
    "b = 'world'\n",
    "a + ' ' +b #' ' entre a et b sert pour les espace demander juste apres "
   ]
  },
  {
   "cell_type": "markdown",
   "metadata": {},
   "source": [
    "**Notes**: les chaînes de caractères peuvent s'écrire avec des guillemets simples ou doubles (d'autres formes existent). L'opération d'addition de chaînes est appelée *concaténation*.\n",
    "\n",
    "2. Dans la cellule précédente, ajoutez un espace entre `hello` et `world` sans modifier les variables."
   ]
  },
  {
   "cell_type": "markdown",
   "metadata": {},
   "source": [
    "3. Avant d'afficher le résultat, prédire ce que valent `a * 3` et `(a + b) * 2`?"
   ]
  },
  {
   "cell_type": "code",
   "execution_count": 30,
   "metadata": {
    "tags": []
   },
   "outputs": [
    {
     "output_type": "execute_result",
     "data": {
      "text/plain": "&#39;helloworldhelloworld&#39;"
     },
     "metadata": {},
     "execution_count": 30
    }
   ],
   "source": [
    "\n",
    "a * 3\n",
    "(a + b) * 2 "
   ]
  },
  {
   "cell_type": "markdown",
   "metadata": {},
   "source": [
    "4. On peut appliquer des *méthodes* (ce sont des fonctions qui s'appliquent à un certain type d'objets) à une chaîne de caractères. Par exemple tester ce que vaut `a.upper()`."
   ]
  },
  {
   "cell_type": "code",
   "execution_count": 37,
   "metadata": {
    "tags": []
   },
   "outputs": [
    {
     "output_type": "stream",
     "name": "stdout",
     "text": "Help on class str in module builtins:\n\nclass str(object)\n |  str(object=&#39;&#39;) -&gt; str\n |  str(bytes_or_buffer[, encoding[, errors]]) -&gt; str\n |  \n |  Create a new string object from the given object. If encoding or\n |  errors is specified, then the object must expose a data buffer\n |  that will be decoded using the given encoding and error handler.\n |  Otherwise, returns the result of object.__str__() (if defined)\n |  or repr(object).\n |  encoding defaults to sys.getdefaultencoding().\n |  errors defaults to &#39;strict&#39;.\n |  \n |  Methods defined here:\n |  \n |  __add__(self, value, /)\n |      Return self+value.\n |  \n |  __contains__(self, key, /)\n |      Return key in self.\n |  \n |  __eq__(self, value, /)\n |      Return self==value.\n |  \n |  __format__(self, format_spec, /)\n |      Return a formatted version of the string as described by format_spec.\n |  \n |  __ge__(self, value, /)\n |      Return self&gt;=value.\n |  \n |  __getattribute__(self, name, /)\n |      Return getattr(self, name).\n |  \n |  __getitem__(self, key, /)\n |      Return self[key].\n |  \n |  __getnewargs__(...)\n |  \n |  __gt__(self, value, /)\n |      Return self&gt;value.\n |  \n |  __hash__(self, /)\n |      Return hash(self).\n |  \n |  __iter__(self, /)\n |      Implement iter(self).\n |  \n |  __le__(self, value, /)\n |      Return self&lt;=value.\n |  \n |  __len__(self, /)\n |      Return len(self).\n |  \n |  __lt__(self, value, /)\n |      Return self&lt;value.\n |  \n |  __mod__(self, value, /)\n |      Return self%value.\n |  \n |  __mul__(self, value, /)\n |      Return self*value.\n |  \n |  __ne__(self, value, /)\n |      Return self!=value.\n |  \n |  __repr__(self, /)\n |      Return repr(self).\n |  \n |  __rmod__(self, value, /)\n |      Return value%self.\n |  \n |  __rmul__(self, value, /)\n |      Return value*self.\n |  \n |  __sizeof__(self, /)\n |      Return the size of the string in memory, in bytes.\n |  \n |  __str__(self, /)\n |      Return str(self).\n |  \n |  capitalize(self, /)\n |      Return a capitalized version of the string.\n |      \n |      More specifically, make the first character have upper case and the rest lower\n |      case.\n |  \n |  casefold(self, /)\n |      Return a version of the string suitable for caseless comparisons.\n |  \n |  center(self, width, fillchar=&#39; &#39;, /)\n |      Return a centered string of length width.\n |      \n |      Padding is done using the specified fill character (default is a space).\n |  \n |  count(...)\n |      S.count(sub[, start[, end]]) -&gt; int\n |      \n |      Return the number of non-overlapping occurrences of substring sub in\n |      string S[start:end].  Optional arguments start and end are\n |      interpreted as in slice notation.\n |  \n |  encode(self, /, encoding=&#39;utf-8&#39;, errors=&#39;strict&#39;)\n |      Encode the string using the codec registered for encoding.\n |      \n |      encoding\n |        The encoding in which to encode the string.\n |      errors\n |        The error handling scheme to use for encoding errors.\n |        The default is &#39;strict&#39; meaning that encoding errors raise a\n |        UnicodeEncodeError.  Other possible values are &#39;ignore&#39;, &#39;replace&#39; and\n |        &#39;xmlcharrefreplace&#39; as well as any other name registered with\n |        codecs.register_error that can handle UnicodeEncodeErrors.\n |  \n |  endswith(...)\n |      S.endswith(suffix[, start[, end]]) -&gt; bool\n |      \n |      Return True if S ends with the specified suffix, False otherwise.\n |      With optional start, test S beginning at that position.\n |      With optional end, stop comparing S at that position.\n |      suffix can also be a tuple of strings to try.\n |  \n |  expandtabs(self, /, tabsize=8)\n |      Return a copy where all tab characters are expanded using spaces.\n |      \n |      If tabsize is not given, a tab size of 8 characters is assumed.\n |  \n |  find(...)\n |      S.find(sub[, start[, end]]) -&gt; int\n |      \n |      Return the lowest index in S where substring sub is found,\n |      such that sub is contained within S[start:end].  Optional\n |      arguments start and end are interpreted as in slice notation.\n |      \n |      Return -1 on failure.\n |  \n |  format(...)\n |      S.format(*args, **kwargs) -&gt; str\n |      \n |      Return a formatted version of S, using substitutions from args and kwargs.\n |      The substitutions are identified by braces (&#39;{&#39; and &#39;}&#39;).\n |  \n |  format_map(...)\n |      S.format_map(mapping) -&gt; str\n |      \n |      Return a formatted version of S, using substitutions from mapping.\n |      The substitutions are identified by braces (&#39;{&#39; and &#39;}&#39;).\n |  \n |  index(...)\n |      S.index(sub[, start[, end]]) -&gt; int\n |      \n |      Return the lowest index in S where substring sub is found,\n |      such that sub is contained within S[start:end].  Optional\n |      arguments start and end are interpreted as in slice notation.\n |      \n |      Raises ValueError when the substring is not found.\n |  \n |  isalnum(self, /)\n |      Return True if the string is an alpha-numeric string, False otherwise.\n |      \n |      A string is alpha-numeric if all characters in the string are alpha-numeric and\n |      there is at least one character in the string.\n |  \n |  isalpha(self, /)\n |      Return True if the string is an alphabetic string, False otherwise.\n |      \n |      A string is alphabetic if all characters in the string are alphabetic and there\n |      is at least one character in the string.\n |  \n |  isascii(self, /)\n |      Return True if all characters in the string are ASCII, False otherwise.\n |      \n |      ASCII characters have code points in the range U+0000-U+007F.\n |      Empty string is ASCII too.\n |  \n |  isdecimal(self, /)\n |      Return True if the string is a decimal string, False otherwise.\n |      \n |      A string is a decimal string if all characters in the string are decimal and\n |      there is at least one character in the string.\n |  \n |  isdigit(self, /)\n |      Return True if the string is a digit string, False otherwise.\n |      \n |      A string is a digit string if all characters in the string are digits and there\n |      is at least one character in the string.\n |  \n |  isidentifier(self, /)\n |      Return True if the string is a valid Python identifier, False otherwise.\n |      \n |      Call keyword.iskeyword(s) to test whether string s is a reserved identifier,\n |      such as &quot;def&quot; or &quot;class&quot;.\n |  \n |  islower(self, /)\n |      Return True if the string is a lowercase string, False otherwise.\n |      \n |      A string is lowercase if all cased characters in the string are lowercase and\n |      there is at least one cased character in the string.\n |  \n |  isnumeric(self, /)\n |      Return True if the string is a numeric string, False otherwise.\n |      \n |      A string is numeric if all characters in the string are numeric and there is at\n |      least one character in the string.\n |  \n |  isprintable(self, /)\n |      Return True if the string is printable, False otherwise.\n |      \n |      A string is printable if all of its characters are considered printable in\n |      repr() or if it is empty.\n |  \n |  isspace(self, /)\n |      Return True if the string is a whitespace string, False otherwise.\n |      \n |      A string is whitespace if all characters in the string are whitespace and there\n |      is at least one character in the string.\n |  \n |  istitle(self, /)\n |      Return True if the string is a title-cased string, False otherwise.\n |      \n |      In a title-cased string, upper- and title-case characters may only\n |      follow uncased characters and lowercase characters only cased ones.\n |  \n |  isupper(self, /)\n |      Return True if the string is an uppercase string, False otherwise.\n |      \n |      A string is uppercase if all cased characters in the string are uppercase and\n |      there is at least one cased character in the string.\n |  \n |  join(self, iterable, /)\n |      Concatenate any number of strings.\n |      \n |      The string whose method is called is inserted in between each given string.\n |      The result is returned as a new string.\n |      \n |      Example: &#39;.&#39;.join([&#39;ab&#39;, &#39;pq&#39;, &#39;rs&#39;]) -&gt; &#39;ab.pq.rs&#39;\n |  \n |  ljust(self, width, fillchar=&#39; &#39;, /)\n |      Return a left-justified string of length width.\n |      \n |      Padding is done using the specified fill character (default is a space).\n |  \n |  lower(self, /)\n |      Return a copy of the string converted to lowercase.\n |  \n |  lstrip(self, chars=None, /)\n |      Return a copy of the string with leading whitespace removed.\n |      \n |      If chars is given and not None, remove characters in chars instead.\n |  \n |  partition(self, sep, /)\n |      Partition the string into three parts using the given separator.\n |      \n |      This will search for the separator in the string.  If the separator is found,\n |      returns a 3-tuple containing the part before the separator, the separator\n |      itself, and the part after it.\n |      \n |      If the separator is not found, returns a 3-tuple containing the original string\n |      and two empty strings.\n |  \n |  replace(self, old, new, count=-1, /)\n |      Return a copy with all occurrences of substring old replaced by new.\n |      \n |        count\n |          Maximum number of occurrences to replace.\n |          -1 (the default value) means replace all occurrences.\n |      \n |      If the optional argument count is given, only the first count occurrences are\n |      replaced.\n |  \n |  rfind(...)\n |      S.rfind(sub[, start[, end]]) -&gt; int\n |      \n |      Return the highest index in S where substring sub is found,\n |      such that sub is contained within S[start:end].  Optional\n |      arguments start and end are interpreted as in slice notation.\n |      \n |      Return -1 on failure.\n |  \n |  rindex(...)\n |      S.rindex(sub[, start[, end]]) -&gt; int\n |      \n |      Return the highest index in S where substring sub is found,\n |      such that sub is contained within S[start:end].  Optional\n |      arguments start and end are interpreted as in slice notation.\n |      \n |      Raises ValueError when the substring is not found.\n |  \n |  rjust(self, width, fillchar=&#39; &#39;, /)\n |      Return a right-justified string of length width.\n |      \n |      Padding is done using the specified fill character (default is a space).\n |  \n |  rpartition(self, sep, /)\n |      Partition the string into three parts using the given separator.\n |      \n |      This will search for the separator in the string, starting at the end. If\n |      the separator is found, returns a 3-tuple containing the part before the\n |      separator, the separator itself, and the part after it.\n |      \n |      If the separator is not found, returns a 3-tuple containing two empty strings\n |      and the original string.\n |  \n |  rsplit(self, /, sep=None, maxsplit=-1)\n |      Return a list of the words in the string, using sep as the delimiter string.\n |      \n |        sep\n |          The delimiter according which to split the string.\n |          None (the default value) means split according to any whitespace,\n |          and discard empty strings from the result.\n |        maxsplit\n |          Maximum number of splits to do.\n |          -1 (the default value) means no limit.\n |      \n |      Splits are done starting at the end of the string and working to the front.\n |  \n |  rstrip(self, chars=None, /)\n |      Return a copy of the string with trailing whitespace removed.\n |      \n |      If chars is given and not None, remove characters in chars instead.\n |  \n |  split(self, /, sep=None, maxsplit=-1)\n |      Return a list of the words in the string, using sep as the delimiter string.\n |      \n |      sep\n |        The delimiter according which to split the string.\n |        None (the default value) means split according to any whitespace,\n |        and discard empty strings from the result.\n |      maxsplit\n |        Maximum number of splits to do.\n |        -1 (the default value) means no limit.\n |  \n |  splitlines(self, /, keepends=False)\n |      Return a list of the lines in the string, breaking at line boundaries.\n |      \n |      Line breaks are not included in the resulting list unless keepends is given and\n |      true.\n |  \n |  startswith(...)\n |      S.startswith(prefix[, start[, end]]) -&gt; bool\n |      \n |      Return True if S starts with the specified prefix, False otherwise.\n |      With optional start, test S beginning at that position.\n |      With optional end, stop comparing S at that position.\n |      prefix can also be a tuple of strings to try.\n |  \n |  strip(self, chars=None, /)\n |      Return a copy of the string with leading and trailing whitespace removed.\n |      \n |      If chars is given and not None, remove characters in chars instead.\n |  \n |  swapcase(self, /)\n |      Convert uppercase characters to lowercase and lowercase characters to uppercase.\n |  \n |  title(self, /)\n |      Return a version of the string where each word is titlecased.\n |      \n |      More specifically, words start with uppercased characters and all remaining\n |      cased characters have lower case.\n |  \n |  translate(self, table, /)\n |      Replace each character in the string using the given translation table.\n |      \n |        table\n |          Translation table, which must be a mapping of Unicode ordinals to\n |          Unicode ordinals, strings, or None.\n |      \n |      The table must implement lookup/indexing via __getitem__, for instance a\n |      dictionary or list.  If this operation raises LookupError, the character is\n |      left untouched.  Characters mapped to None are deleted.\n |  \n |  upper(self, /)\n |      Return a copy of the string converted to uppercase.\n |  \n |  zfill(self, width, /)\n |      Pad a numeric string with zeros on the left, to fill a field of the given width.\n |      \n |      The string is never truncated.\n |  \n |  ----------------------------------------------------------------------\n |  Static methods defined here:\n |  \n |  __new__(*args, **kwargs) from builtins.type\n |      Create and return a new object.  See help(type) for accurate signature.\n |  \n |  maketrans(...)\n |      Return a translation table usable for str.translate().\n |      \n |      If there is only one argument, it must be a dictionary mapping Unicode\n |      ordinals (integers) or characters to Unicode ordinals, strings or None.\n |      Character keys will be then converted to ordinals.\n |      If there are two arguments, they must be strings of equal length, and\n |      in the resulting dictionary, each character in x will be mapped to the\n |      character at the same position in y. If there is a third argument, it\n |      must be a string, whose characters will be mapped to None in the result.\n\n"
    }
   ],
   "source": [
    "a= \"Hello\" \n",
    "a.lower() #ne pas oublier les parenthese a la fin \n",
    "help(str) #permet d'ouvir le gros bloc en bas "
   ]
  },
  {
   "cell_type": "markdown",
   "metadata": {},
   "source": [
    "Vous pouvez voir la liste des méthodes associées aux chaînes de caractères (ainsi que sur les autres types natifs) sur [cette page](https://docs.python.org/fr/3/library/stdtypes.html#string-methods).\n",
    "\n",
    "5. La variable `a` a-t'elle été modifiée?"
   ]
  },
  {
   "cell_type": "code",
   "execution_count": null,
   "metadata": {},
   "outputs": [],
   "source": []
  },
  {
   "cell_type": "markdown",
   "metadata": {},
   "source": [
    "6. Que vaut `a > b`?"
   ]
  },
  {
   "cell_type": "code",
   "execution_count": 40,
   "metadata": {
    "tags": []
   },
   "outputs": [
    {
     "output_type": "stream",
     "name": "stdout",
     "text": "hello world False\n"
    }
   ],
   "source": [
    "a = \"hello\" #on remet hello en miniscule car on la changer juste avant \n",
    "print(a,b, a>b) #ca permet de comparer le nombre de character entre hello et world et a = b "
   ]
  },
  {
   "cell_type": "markdown",
   "metadata": {},
   "source": [
    "7. Quelle est la signification de cette comparaison?"
   ]
  },
  {
   "cell_type": "markdown",
   "metadata": {},
   "source": [
    "### 3.4 Conversions"
   ]
  },
  {
   "cell_type": "markdown",
   "metadata": {},
   "source": [
    "1. Dans la cellule de code suivante, devinez ce que vaut `a * 2` avant de l'afficher."
   ]
  },
  {
   "cell_type": "code",
   "execution_count": 5,
   "metadata": {
    "tags": []
   },
   "outputs": [
    {
     "output_type": "execute_result",
     "data": {
      "text/plain": "&#39;3232&#39;"
     },
     "metadata": {},
     "execution_count": 5
    }
   ],
   "source": [
    "a = \"32\"\n",
    "a * 2 #comme il y a des \" \" c un chaine de caractere donc ca affiche 2 fois a donc 3232 si ca aurait était a = 32 lz résultat aurait était 64"
   ]
  },
  {
   "cell_type": "markdown",
   "metadata": {},
   "source": [
    "2. Utilisez la fonction de conversion `int()` pour obtenir le résultat de la multiplication de nombres entiers (64 ici)."
   ]
  },
  {
   "cell_type": "code",
   "execution_count": 7,
   "metadata": {
    "tags": []
   },
   "outputs": [
    {
     "output_type": "execute_result",
     "data": {
      "text/plain": "64"
     },
     "metadata": {},
     "execution_count": 7
    }
   ],
   "source": [
    "int(a) * 2"
   ]
  },
  {
   "cell_type": "markdown",
   "metadata": {},
   "source": [
    "3. Ecrivez l'expression `s = input(\"Tape quelquechose au clavier\")` puis affichez `s`. Que se passe-t'il?"
   ]
  },
  {
   "cell_type": "code",
   "execution_count": 9,
   "metadata": {
    "tags": []
   },
   "outputs": [],
   "source": [
    " s = input(\"Tape quelquechose au clavier\")"
   ]
  },
  {
   "cell_type": "markdown",
   "metadata": {},
   "source": [
    "4. Recopiez le code de la cellule précédente. L'utilisateur doit saisir un nombre entier puis vous affichez ce nombre multiplié par 2."
   ]
  },
  {
   "cell_type": "code",
   "execution_count": 10,
   "metadata": {
    "tags": []
   },
   "outputs": [
    {
     "output_type": "execute_result",
     "data": {
      "text/plain": "10"
     },
     "metadata": {},
     "execution_count": 10
    }
   ],
   "source": [
    " s = input(\"5\")\n",
    " int(s) * 2"
   ]
  },
  {
   "cell_type": "markdown",
   "metadata": {},
   "source": [
    "5. ́Ecrivez le code qui demande son âge à l’utilisateur et répond en utilisant sa réponse au milieu d’une phrase, comme par exemple en lui donnant l’âge qu’il aura en 2031 le même jour."
   ]
  },
  {
   "cell_type": "code",
   "execution_count": 13,
   "metadata": {
    "tags": []
   },
   "outputs": [
    {
     "output_type": "stream",
     "name": "stdout",
     "text": "Vous aurez 29\n"
    }
   ],
   "source": [
    "age = input(\"18\")\n",
    "en2031 = int(age) + 2031 - 2020\n",
    "print(\"Vous aurez\", en2031)"
   ]
  },
  {
   "cell_type": "markdown",
   "metadata": {},
   "source": [
    "6. Avant de passer à la suite, sauvegardez votre notebook sur github."
   ]
  },
  {
   "cell_type": "markdown",
   "metadata": {},
   "source": [
    "---\n",
    "## Exercices supplémentaires"
   ]
  },
  {
   "cell_type": "markdown",
   "metadata": {
    "tags": []
   },
   "source": [
    "1. Parmi les chaînes de caractères suivantes, lesquelles peuvent être des noms de variable?\n",
    "* `f`\n",
    "* `l`\n",
    "* `f2`\n",
    "* `2f`\n",
    "* `totolehero`\n",
    "* `toto_le_hero`\n",
    "* `import`\n",
    "* `toto2-le-retour`\n",
    "\n",
    "Et parmi les noms corrects, lesquels ne sont pas recommandés (voir la [PEP8](https://www.python.org/dev/peps/pep-0008/#naming-conventions))?\n"
   ]
  },
  {
   "cell_type": "markdown",
   "metadata": {},
   "source": [
    "2. Demandez à l'utilisateur de rentrer un nombre, puis afficher sa racine carrée en faisant une phrase."
   ]
  },
  {
   "cell_type": "code",
   "execution_count": null,
   "metadata": {
    "tags": []
   },
   "outputs": [],
   "source": []
  },
  {
   "cell_type": "markdown",
   "metadata": {},
   "source": [
    "3. Ecrivez le code qui affiche:\n",
    "* la chaı̂ne ”aaaaaa...” (250 ”a”)\n",
    "* la chaı̂ne ”bbbb....a” (250 ”b” suivis d’un ”a”)\n",
    "* la chaı̂ne ”bbbb....aaabbb...” (250 ”b” suivis d’un ”a” suivi de 100 b)\n",
    "* 50 fois ”bonjour” en allant à la ligne à chaque fois (utilisez ”\\n”)\n"
   ]
  },
  {
   "cell_type": "code",
   "execution_count": null,
   "metadata": {
    "tags": []
   },
   "outputs": [],
   "source": []
  }
 ],
 "metadata": {
  "kernelspec": {
   "name": "Python 3.8.3 64-bit ('base': conda)",
   "display_name": "Python 3.8.3 64-bit ('base': conda)",
   "metadata": {
    "interpreter": {
     "hash": "82045b8a6578c3a47abfcec160ee6da3f204cbe11e3a5169e1c6fa6f0dacec02"
    }
   }
  },
  "language_info": {
   "codemirror_mode": {
    "name": "ipython",
    "version": 3
   },
   "file_extension": ".py",
   "mimetype": "text/x-python",
   "name": "python",
   "nbconvert_exporter": "python",
   "pygments_lexer": "ipython3",
   "version": "3.8.3-final"
  }
 },
 "nbformat": 4,
 "nbformat_minor": 1
}